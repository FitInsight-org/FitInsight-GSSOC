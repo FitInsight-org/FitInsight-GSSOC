{
 "cells": [
  {
   "cell_type": "code",
   "execution_count": 1,
   "id": "b7ad2370",
   "metadata": {
    "_cell_guid": "b1076dfc-b9ad-4769-8c92-a6c4dae69d19",
    "_uuid": "8f2839f25d086af736a60e9eeb907d3b93b6e0e5",
    "execution": {
     "iopub.execute_input": "2025-07-04T19:36:01.150338Z",
     "iopub.status.busy": "2025-07-04T19:36:01.149895Z",
     "iopub.status.idle": "2025-07-04T19:36:03.284181Z",
     "shell.execute_reply": "2025-07-04T19:36:03.282974Z"
    },
    "papermill": {
     "duration": 2.142241,
     "end_time": "2025-07-04T19:36:03.285833",
     "exception": false,
     "start_time": "2025-07-04T19:36:01.143592",
     "status": "completed"
    },
    "tags": []
   },
   "outputs": [
    {
     "name": "stdout",
     "output_type": "stream",
     "text": [
      "/kaggle/input/estimation-of-obesity-levels-uci-dataset/ObesityDataSet_raw_and_data_sinthetic.arff\n",
      "/kaggle/input/estimation-of-obesity-levels-uci-dataset/ObesityDataSet_raw_and_data_sinthetic.csv\n"
     ]
    }
   ],
   "source": [
    "# This Python 3 environment comes with many helpful analytics libraries installed\n",
    "# It is defined by the kaggle/python Docker image: https://github.com/kaggle/docker-python\n",
    "# For example, here's several helpful packages to load\n",
    "\n",
    "import numpy as np # linear algebra\n",
    "import pandas as pd # data processing, CSV file I/O (e.g. pd.read_csv)\n",
    "\n",
    "# Input data files are available in the read-only \"../input/\" directory\n",
    "# For example, running this (by clicking run or pressing Shift+Enter) will list all files under the input directory\n",
    "\n",
    "import os\n",
    "for dirname, _, filenames in os.walk('/kaggle/input'):\n",
    "    for filename in filenames:\n",
    "        print(os.path.join(dirname, filename))\n",
    "\n",
    "# You can write up to 20GB to the current directory (/kaggle/working/) that gets preserved as output when you create a version using \"Save & Run All\" \n",
    "# You can also write temporary files to /kaggle/temp/, but they won't be saved outside of the current session"
   ]
  },
  {
   "cell_type": "code",
   "execution_count": 2,
   "id": "4ce18aa4",
   "metadata": {
    "execution": {
     "iopub.execute_input": "2025-07-04T19:36:03.296106Z",
     "iopub.status.busy": "2025-07-04T19:36:03.295635Z",
     "iopub.status.idle": "2025-07-04T19:36:03.369595Z",
     "shell.execute_reply": "2025-07-04T19:36:03.368386Z"
    },
    "papermill": {
     "duration": 0.080942,
     "end_time": "2025-07-04T19:36:03.371325",
     "exception": false,
     "start_time": "2025-07-04T19:36:03.290383",
     "status": "completed"
    },
    "tags": []
   },
   "outputs": [
    {
     "data": {
      "text/html": [
       "<div>\n",
       "<style scoped>\n",
       "    .dataframe tbody tr th:only-of-type {\n",
       "        vertical-align: middle;\n",
       "    }\n",
       "\n",
       "    .dataframe tbody tr th {\n",
       "        vertical-align: top;\n",
       "    }\n",
       "\n",
       "    .dataframe thead th {\n",
       "        text-align: right;\n",
       "    }\n",
       "</style>\n",
       "<table border=\"1\" class=\"dataframe\">\n",
       "  <thead>\n",
       "    <tr style=\"text-align: right;\">\n",
       "      <th></th>\n",
       "      <th>Gender</th>\n",
       "      <th>Age</th>\n",
       "      <th>Height</th>\n",
       "      <th>Weight</th>\n",
       "      <th>family_history_with_overweight</th>\n",
       "      <th>FAVC</th>\n",
       "      <th>FCVC</th>\n",
       "      <th>NCP</th>\n",
       "      <th>CAEC</th>\n",
       "      <th>SMOKE</th>\n",
       "      <th>CH2O</th>\n",
       "      <th>SCC</th>\n",
       "      <th>FAF</th>\n",
       "      <th>TUE</th>\n",
       "      <th>CALC</th>\n",
       "      <th>MTRANS</th>\n",
       "      <th>NObeyesdad</th>\n",
       "    </tr>\n",
       "  </thead>\n",
       "  <tbody>\n",
       "    <tr>\n",
       "      <th>0</th>\n",
       "      <td>Female</td>\n",
       "      <td>21.0</td>\n",
       "      <td>1.62</td>\n",
       "      <td>64.0</td>\n",
       "      <td>yes</td>\n",
       "      <td>no</td>\n",
       "      <td>2.0</td>\n",
       "      <td>3.0</td>\n",
       "      <td>Sometimes</td>\n",
       "      <td>no</td>\n",
       "      <td>2.0</td>\n",
       "      <td>no</td>\n",
       "      <td>0.0</td>\n",
       "      <td>1.0</td>\n",
       "      <td>no</td>\n",
       "      <td>Public_Transportation</td>\n",
       "      <td>Normal_Weight</td>\n",
       "    </tr>\n",
       "    <tr>\n",
       "      <th>1</th>\n",
       "      <td>Female</td>\n",
       "      <td>21.0</td>\n",
       "      <td>1.52</td>\n",
       "      <td>56.0</td>\n",
       "      <td>yes</td>\n",
       "      <td>no</td>\n",
       "      <td>3.0</td>\n",
       "      <td>3.0</td>\n",
       "      <td>Sometimes</td>\n",
       "      <td>yes</td>\n",
       "      <td>3.0</td>\n",
       "      <td>yes</td>\n",
       "      <td>3.0</td>\n",
       "      <td>0.0</td>\n",
       "      <td>Sometimes</td>\n",
       "      <td>Public_Transportation</td>\n",
       "      <td>Normal_Weight</td>\n",
       "    </tr>\n",
       "    <tr>\n",
       "      <th>2</th>\n",
       "      <td>Male</td>\n",
       "      <td>23.0</td>\n",
       "      <td>1.80</td>\n",
       "      <td>77.0</td>\n",
       "      <td>yes</td>\n",
       "      <td>no</td>\n",
       "      <td>2.0</td>\n",
       "      <td>3.0</td>\n",
       "      <td>Sometimes</td>\n",
       "      <td>no</td>\n",
       "      <td>2.0</td>\n",
       "      <td>no</td>\n",
       "      <td>2.0</td>\n",
       "      <td>1.0</td>\n",
       "      <td>Frequently</td>\n",
       "      <td>Public_Transportation</td>\n",
       "      <td>Normal_Weight</td>\n",
       "    </tr>\n",
       "    <tr>\n",
       "      <th>3</th>\n",
       "      <td>Male</td>\n",
       "      <td>27.0</td>\n",
       "      <td>1.80</td>\n",
       "      <td>87.0</td>\n",
       "      <td>no</td>\n",
       "      <td>no</td>\n",
       "      <td>3.0</td>\n",
       "      <td>3.0</td>\n",
       "      <td>Sometimes</td>\n",
       "      <td>no</td>\n",
       "      <td>2.0</td>\n",
       "      <td>no</td>\n",
       "      <td>2.0</td>\n",
       "      <td>0.0</td>\n",
       "      <td>Frequently</td>\n",
       "      <td>Walking</td>\n",
       "      <td>Overweight_Level_I</td>\n",
       "    </tr>\n",
       "    <tr>\n",
       "      <th>4</th>\n",
       "      <td>Male</td>\n",
       "      <td>22.0</td>\n",
       "      <td>1.78</td>\n",
       "      <td>89.8</td>\n",
       "      <td>no</td>\n",
       "      <td>no</td>\n",
       "      <td>2.0</td>\n",
       "      <td>1.0</td>\n",
       "      <td>Sometimes</td>\n",
       "      <td>no</td>\n",
       "      <td>2.0</td>\n",
       "      <td>no</td>\n",
       "      <td>0.0</td>\n",
       "      <td>0.0</td>\n",
       "      <td>Sometimes</td>\n",
       "      <td>Public_Transportation</td>\n",
       "      <td>Overweight_Level_II</td>\n",
       "    </tr>\n",
       "  </tbody>\n",
       "</table>\n",
       "</div>"
      ],
      "text/plain": [
       "   Gender   Age  Height  Weight family_history_with_overweight FAVC  FCVC  \\\n",
       "0  Female  21.0    1.62    64.0                            yes   no   2.0   \n",
       "1  Female  21.0    1.52    56.0                            yes   no   3.0   \n",
       "2    Male  23.0    1.80    77.0                            yes   no   2.0   \n",
       "3    Male  27.0    1.80    87.0                             no   no   3.0   \n",
       "4    Male  22.0    1.78    89.8                             no   no   2.0   \n",
       "\n",
       "   NCP       CAEC SMOKE  CH2O  SCC  FAF  TUE        CALC  \\\n",
       "0  3.0  Sometimes    no   2.0   no  0.0  1.0          no   \n",
       "1  3.0  Sometimes   yes   3.0  yes  3.0  0.0   Sometimes   \n",
       "2  3.0  Sometimes    no   2.0   no  2.0  1.0  Frequently   \n",
       "3  3.0  Sometimes    no   2.0   no  2.0  0.0  Frequently   \n",
       "4  1.0  Sometimes    no   2.0   no  0.0  0.0   Sometimes   \n",
       "\n",
       "                  MTRANS           NObeyesdad  \n",
       "0  Public_Transportation        Normal_Weight  \n",
       "1  Public_Transportation        Normal_Weight  \n",
       "2  Public_Transportation        Normal_Weight  \n",
       "3                Walking   Overweight_Level_I  \n",
       "4  Public_Transportation  Overweight_Level_II  "
      ]
     },
     "execution_count": 2,
     "metadata": {},
     "output_type": "execute_result"
    }
   ],
   "source": [
    "import pandas as pd\n",
    "\n",
    "df = pd.read_csv('/kaggle/input/estimation-of-obesity-levels-uci-dataset/ObesityDataSet_raw_and_data_sinthetic.csv')\n",
    "df.head()\n"
   ]
  },
  {
   "cell_type": "code",
   "execution_count": 3,
   "id": "9ae3e882",
   "metadata": {
    "execution": {
     "iopub.execute_input": "2025-07-04T19:36:03.382453Z",
     "iopub.status.busy": "2025-07-04T19:36:03.382104Z",
     "iopub.status.idle": "2025-07-04T19:36:03.412511Z",
     "shell.execute_reply": "2025-07-04T19:36:03.411161Z"
    },
    "papermill": {
     "duration": 0.037473,
     "end_time": "2025-07-04T19:36:03.414078",
     "exception": false,
     "start_time": "2025-07-04T19:36:03.376605",
     "status": "completed"
    },
    "tags": []
   },
   "outputs": [
    {
     "name": "stdout",
     "output_type": "stream",
     "text": [
      "Gender                            0\n",
      "Age                               0\n",
      "Height                            0\n",
      "Weight                            0\n",
      "family_history_with_overweight    0\n",
      "FAVC                              0\n",
      "FCVC                              0\n",
      "NCP                               0\n",
      "CAEC                              0\n",
      "SMOKE                             0\n",
      "CH2O                              0\n",
      "SCC                               0\n",
      "FAF                               0\n",
      "TUE                               0\n",
      "CALC                              0\n",
      "MTRANS                            0\n",
      "NObeyesdad                        0\n",
      "dtype: int64\n",
      "<class 'pandas.core.frame.DataFrame'>\n",
      "RangeIndex: 2111 entries, 0 to 2110\n",
      "Data columns (total 17 columns):\n",
      " #   Column                          Non-Null Count  Dtype  \n",
      "---  ------                          --------------  -----  \n",
      " 0   Gender                          2111 non-null   object \n",
      " 1   Age                             2111 non-null   float64\n",
      " 2   Height                          2111 non-null   float64\n",
      " 3   Weight                          2111 non-null   float64\n",
      " 4   family_history_with_overweight  2111 non-null   object \n",
      " 5   FAVC                            2111 non-null   object \n",
      " 6   FCVC                            2111 non-null   float64\n",
      " 7   NCP                             2111 non-null   float64\n",
      " 8   CAEC                            2111 non-null   object \n",
      " 9   SMOKE                           2111 non-null   object \n",
      " 10  CH2O                            2111 non-null   float64\n",
      " 11  SCC                             2111 non-null   object \n",
      " 12  FAF                             2111 non-null   float64\n",
      " 13  TUE                             2111 non-null   float64\n",
      " 14  CALC                            2111 non-null   object \n",
      " 15  MTRANS                          2111 non-null   object \n",
      " 16  NObeyesdad                      2111 non-null   object \n",
      "dtypes: float64(8), object(9)\n",
      "memory usage: 280.5+ KB\n"
     ]
    }
   ],
   "source": [
    "\n",
    "print(df.isnull().sum())\n",
    "\n",
    "df.info()\n"
   ]
  },
  {
   "cell_type": "code",
   "execution_count": 4,
   "id": "1bd76068",
   "metadata": {
    "execution": {
     "iopub.execute_input": "2025-07-04T19:36:03.425560Z",
     "iopub.status.busy": "2025-07-04T19:36:03.424343Z",
     "iopub.status.idle": "2025-07-04T19:36:03.432028Z",
     "shell.execute_reply": "2025-07-04T19:36:03.430398Z"
    },
    "papermill": {
     "duration": 0.015135,
     "end_time": "2025-07-04T19:36:03.434005",
     "exception": false,
     "start_time": "2025-07-04T19:36:03.418870",
     "status": "completed"
    },
    "tags": []
   },
   "outputs": [
    {
     "name": "stdout",
     "output_type": "stream",
     "text": [
      "['no' 'Sometimes' 'Frequently' 'Always']\n"
     ]
    }
   ],
   "source": [
    "print(df['CALC'].unique())\n",
    "\n"
   ]
  },
  {
   "cell_type": "code",
   "execution_count": 5,
   "id": "d804fbf0",
   "metadata": {
    "execution": {
     "iopub.execute_input": "2025-07-04T19:36:03.446360Z",
     "iopub.status.busy": "2025-07-04T19:36:03.445509Z",
     "iopub.status.idle": "2025-07-04T19:36:05.147150Z",
     "shell.execute_reply": "2025-07-04T19:36:05.146180Z"
    },
    "papermill": {
     "duration": 1.709115,
     "end_time": "2025-07-04T19:36:05.149035",
     "exception": false,
     "start_time": "2025-07-04T19:36:03.439920",
     "status": "completed"
    },
    "tags": []
   },
   "outputs": [],
   "source": [
    "from sklearn.preprocessing import OrdinalEncoder\n",
    "\n",
    "ordinal_encoder = OrdinalEncoder(categories=[['no', 'Sometimes', 'Frequently', 'Always']])\n",
    "df['CALC'] = ordinal_encoder.fit_transform(df[['CALC']])\n",
    "\n"
   ]
  },
  {
   "cell_type": "code",
   "execution_count": 6,
   "id": "1997770c",
   "metadata": {
    "execution": {
     "iopub.execute_input": "2025-07-04T19:36:05.161427Z",
     "iopub.status.busy": "2025-07-04T19:36:05.160917Z",
     "iopub.status.idle": "2025-07-04T19:36:05.168417Z",
     "shell.execute_reply": "2025-07-04T19:36:05.167283Z"
    },
    "papermill": {
     "duration": 0.015211,
     "end_time": "2025-07-04T19:36:05.170245",
     "exception": false,
     "start_time": "2025-07-04T19:36:05.155034",
     "status": "completed"
    },
    "tags": []
   },
   "outputs": [
    {
     "name": "stdout",
     "output_type": "stream",
     "text": [
      "[0. 1. 2. 3.]\n"
     ]
    }
   ],
   "source": [
    "print(df['CALC'].unique())\n"
   ]
  },
  {
   "cell_type": "code",
   "execution_count": 7,
   "id": "f608dfb5",
   "metadata": {
    "execution": {
     "iopub.execute_input": "2025-07-04T19:36:05.180778Z",
     "iopub.status.busy": "2025-07-04T19:36:05.180473Z",
     "iopub.status.idle": "2025-07-04T19:36:05.197744Z",
     "shell.execute_reply": "2025-07-04T19:36:05.196971Z"
    },
    "papermill": {
     "duration": 0.024427,
     "end_time": "2025-07-04T19:36:05.199438",
     "exception": false,
     "start_time": "2025-07-04T19:36:05.175011",
     "status": "completed"
    },
    "tags": []
   },
   "outputs": [],
   "source": [
    "nominal_cols = ['Gender', 'family_history_with_overweight', 'FAVC', 'SMOKE', 'SCC', 'MTRANS']\n",
    "df = pd.get_dummies(df, columns=nominal_cols)\n"
   ]
  },
  {
   "cell_type": "code",
   "execution_count": 8,
   "id": "51615cc6",
   "metadata": {
    "execution": {
     "iopub.execute_input": "2025-07-04T19:36:05.209972Z",
     "iopub.status.busy": "2025-07-04T19:36:05.209663Z",
     "iopub.status.idle": "2025-07-04T19:36:05.215041Z",
     "shell.execute_reply": "2025-07-04T19:36:05.213859Z"
    },
    "papermill": {
     "duration": 0.012476,
     "end_time": "2025-07-04T19:36:05.216746",
     "exception": false,
     "start_time": "2025-07-04T19:36:05.204270",
     "status": "completed"
    },
    "tags": []
   },
   "outputs": [
    {
     "name": "stdout",
     "output_type": "stream",
     "text": [
      "['Age', 'Height', 'Weight', 'FCVC', 'NCP', 'CAEC', 'CH2O', 'FAF', 'TUE', 'CALC', 'NObeyesdad', 'Gender_Female', 'Gender_Male', 'family_history_with_overweight_no', 'family_history_with_overweight_yes', 'FAVC_no', 'FAVC_yes', 'SMOKE_no', 'SMOKE_yes', 'SCC_no', 'SCC_yes', 'MTRANS_Automobile', 'MTRANS_Bike', 'MTRANS_Motorbike', 'MTRANS_Public_Transportation', 'MTRANS_Walking']\n"
     ]
    }
   ],
   "source": [
    "print(df.columns.tolist())\n"
   ]
  },
  {
   "cell_type": "code",
   "execution_count": 9,
   "id": "0d509d15",
   "metadata": {
    "execution": {
     "iopub.execute_input": "2025-07-04T19:36:05.227587Z",
     "iopub.status.busy": "2025-07-04T19:36:05.227270Z",
     "iopub.status.idle": "2025-07-04T19:36:05.233678Z",
     "shell.execute_reply": "2025-07-04T19:36:05.232580Z"
    },
    "papermill": {
     "duration": 0.013869,
     "end_time": "2025-07-04T19:36:05.235483",
     "exception": false,
     "start_time": "2025-07-04T19:36:05.221614",
     "status": "completed"
    },
    "tags": []
   },
   "outputs": [],
   "source": [
    "from sklearn.preprocessing import LabelEncoder\n",
    "\n",
    "label_encoder = LabelEncoder()\n",
    "df['NObeyesdad'] = label_encoder.fit_transform(df['NObeyesdad'])\n"
   ]
  },
  {
   "cell_type": "code",
   "execution_count": 10,
   "id": "50450b00",
   "metadata": {
    "execution": {
     "iopub.execute_input": "2025-07-04T19:36:05.246339Z",
     "iopub.status.busy": "2025-07-04T19:36:05.245972Z",
     "iopub.status.idle": "2025-07-04T19:36:05.252342Z",
     "shell.execute_reply": "2025-07-04T19:36:05.251380Z"
    },
    "papermill": {
     "duration": 0.01368,
     "end_time": "2025-07-04T19:36:05.254033",
     "exception": false,
     "start_time": "2025-07-04T19:36:05.240353",
     "status": "completed"
    },
    "tags": []
   },
   "outputs": [
    {
     "name": "stdout",
     "output_type": "stream",
     "text": [
      "Index(['CAEC'], dtype='object')\n"
     ]
    }
   ],
   "source": [
    "print(df.select_dtypes(include='object').columns)\n"
   ]
  },
  {
   "cell_type": "code",
   "execution_count": 11,
   "id": "3a05cb8c",
   "metadata": {
    "execution": {
     "iopub.execute_input": "2025-07-04T19:36:05.264914Z",
     "iopub.status.busy": "2025-07-04T19:36:05.264624Z",
     "iopub.status.idle": "2025-07-04T19:36:05.270160Z",
     "shell.execute_reply": "2025-07-04T19:36:05.269071Z"
    },
    "papermill": {
     "duration": 0.012527,
     "end_time": "2025-07-04T19:36:05.271618",
     "exception": false,
     "start_time": "2025-07-04T19:36:05.259091",
     "status": "completed"
    },
    "tags": []
   },
   "outputs": [
    {
     "name": "stdout",
     "output_type": "stream",
     "text": [
      "['Sometimes' 'Frequently' 'Always' 'no']\n"
     ]
    }
   ],
   "source": [
    "print(df['CAEC'].unique())\n"
   ]
  },
  {
   "cell_type": "code",
   "execution_count": 12,
   "id": "fc2d2a6f",
   "metadata": {
    "execution": {
     "iopub.execute_input": "2025-07-04T19:36:05.282593Z",
     "iopub.status.busy": "2025-07-04T19:36:05.282287Z",
     "iopub.status.idle": "2025-07-04T19:36:05.293277Z",
     "shell.execute_reply": "2025-07-04T19:36:05.292159Z"
    },
    "papermill": {
     "duration": 0.018256,
     "end_time": "2025-07-04T19:36:05.294807",
     "exception": false,
     "start_time": "2025-07-04T19:36:05.276551",
     "status": "completed"
    },
    "tags": []
   },
   "outputs": [],
   "source": [
    "df['CAEC'] = df['CAEC'].str.strip().str.lower().str.capitalize()\n",
    "\n",
    "from sklearn.preprocessing import OrdinalEncoder\n",
    "\n",
    "caec_encoder = OrdinalEncoder(categories=[['No', 'Sometimes', 'Frequently', 'Always']])\n",
    "df['CAEC'] = caec_encoder.fit_transform(df[['CAEC']])\n"
   ]
  },
  {
   "cell_type": "code",
   "execution_count": 13,
   "id": "94cbf9e0",
   "metadata": {
    "execution": {
     "iopub.execute_input": "2025-07-04T19:36:05.306049Z",
     "iopub.status.busy": "2025-07-04T19:36:05.305358Z",
     "iopub.status.idle": "2025-07-04T19:36:06.322764Z",
     "shell.execute_reply": "2025-07-04T19:36:06.321554Z"
    },
    "papermill": {
     "duration": 1.024909,
     "end_time": "2025-07-04T19:36:06.324589",
     "exception": false,
     "start_time": "2025-07-04T19:36:05.299680",
     "status": "completed"
    },
    "tags": []
   },
   "outputs": [
    {
     "name": "stdout",
     "output_type": "stream",
     "text": [
      "0.9479905437352246\n",
      "              precision    recall  f1-score   support\n",
      "\n",
      "           0       0.96      0.96      0.96        56\n",
      "           1       0.86      0.90      0.88        62\n",
      "           2       0.99      0.95      0.97        78\n",
      "           3       0.97      0.98      0.97        58\n",
      "           4       1.00      1.00      1.00        63\n",
      "           5       0.89      0.88      0.88        56\n",
      "           6       0.96      0.96      0.96        50\n",
      "\n",
      "    accuracy                           0.95       423\n",
      "   macro avg       0.95      0.95      0.95       423\n",
      "weighted avg       0.95      0.95      0.95       423\n",
      "\n"
     ]
    }
   ],
   "source": [
    "from sklearn.model_selection import train_test_split\n",
    "from sklearn.ensemble import RandomForestClassifier\n",
    "from sklearn.metrics import accuracy_score, classification_report\n",
    "\n",
    "X = df.drop('NObeyesdad', axis=1)\n",
    "y = df['NObeyesdad']\n",
    "\n",
    "X_train, X_test, y_train, y_test = train_test_split(X, y, test_size=0.2, random_state=42)\n",
    "\n",
    "model = RandomForestClassifier(random_state=42)\n",
    "model.fit(X_train, y_train)\n",
    "\n",
    "y_pred = model.predict(X_test)\n",
    "\n",
    "print(accuracy_score(y_test, y_pred))\n",
    "print(classification_report(y_test, y_pred))\n"
   ]
  },
  {
   "cell_type": "code",
   "execution_count": 14,
   "id": "2f4df0cc",
   "metadata": {
    "execution": {
     "iopub.execute_input": "2025-07-04T19:36:06.338778Z",
     "iopub.status.busy": "2025-07-04T19:36:06.337971Z",
     "iopub.status.idle": "2025-07-04T19:36:06.345323Z",
     "shell.execute_reply": "2025-07-04T19:36:06.344082Z"
    },
    "papermill": {
     "duration": 0.016743,
     "end_time": "2025-07-04T19:36:06.347092",
     "exception": false,
     "start_time": "2025-07-04T19:36:06.330349",
     "status": "completed"
    },
    "tags": []
   },
   "outputs": [],
   "source": [
    "def predict_obesity_and_risk(model, user_input):\n",
    "    from numpy import array\n",
    "    \n",
    "    probas = model.predict_proba([array(user_input)])[0]\n",
    "    pred_class = probas.argmax()\n",
    "\n",
    "    class_labels = [\n",
    "        'Insufficient_Weight',\n",
    "        'Normal_Weight',\n",
    "        'Overweight_Level_I',\n",
    "        'Overweight_Level_II',\n",
    "        'Obesity_Type_I',\n",
    "        'Obesity_Type_II',\n",
    "        'Obesity_Type_III'\n",
    "    ]\n",
    "\n",
    "    risk_map = {\n",
    "        0: 15,\n",
    "        1: 25,\n",
    "        2: 50,\n",
    "        3: 65,\n",
    "        4: 80,\n",
    "        5: 90,\n",
    "        6: 97\n",
    "    }\n",
    "\n",
    "    risk_percent = sum(p * risk_map[i] for i, p in enumerate(probas))\n",
    "    label = class_labels[pred_class]\n",
    "\n",
    "    return label, round(risk_percent, 2)\n"
   ]
  },
  {
   "cell_type": "code",
   "execution_count": 15,
   "id": "1e179499",
   "metadata": {
    "execution": {
     "iopub.execute_input": "2025-07-04T19:36:06.359704Z",
     "iopub.status.busy": "2025-07-04T19:36:06.359351Z",
     "iopub.status.idle": "2025-07-04T19:36:06.375968Z",
     "shell.execute_reply": "2025-07-04T19:36:06.374831Z"
    },
    "papermill": {
     "duration": 0.025606,
     "end_time": "2025-07-04T19:36:06.377832",
     "exception": false,
     "start_time": "2025-07-04T19:36:06.352226",
     "status": "completed"
    },
    "tags": []
   },
   "outputs": [
    {
     "name": "stdout",
     "output_type": "stream",
     "text": [
      "Predicted Category: Insufficient_Weight\n",
      "Obesity Risk (%): 23.76\n"
     ]
    },
    {
     "name": "stderr",
     "output_type": "stream",
     "text": [
      "/usr/local/lib/python3.11/dist-packages/sklearn/base.py:439: UserWarning: X does not have valid feature names, but RandomForestClassifier was fitted with feature names\n",
      "  warnings.warn(\n"
     ]
    }
   ],
   "source": [
    "sample_input = X_test.iloc[0].tolist()\n",
    "\n",
    "label, risk = predict_obesity_and_risk(model, sample_input)\n",
    "\n",
    "print(\"Predicted Category:\", label)\n",
    "print(\"Obesity Risk (%):\", risk)\n"
   ]
  },
  {
   "cell_type": "code",
   "execution_count": 16,
   "id": "bdba36fd",
   "metadata": {
    "execution": {
     "iopub.execute_input": "2025-07-04T19:36:06.390378Z",
     "iopub.status.busy": "2025-07-04T19:36:06.389780Z",
     "iopub.status.idle": "2025-07-04T19:36:11.976291Z",
     "shell.execute_reply": "2025-07-04T19:36:11.974955Z"
    },
    "papermill": {
     "duration": 5.595071,
     "end_time": "2025-07-04T19:36:11.978062",
     "exception": false,
     "start_time": "2025-07-04T19:36:06.382991",
     "status": "completed"
    },
    "tags": []
   },
   "outputs": [
    {
     "name": "stdout",
     "output_type": "stream",
     "text": [
      "Requirement already satisfied: joblib in /usr/local/lib/python3.11/dist-packages (1.5.0)\r\n",
      "Note: you may need to restart the kernel to use updated packages.\n"
     ]
    }
   ],
   "source": [
    "pip install joblib\n"
   ]
  },
  {
   "cell_type": "code",
   "execution_count": 17,
   "id": "7a2fbe95",
   "metadata": {
    "execution": {
     "iopub.execute_input": "2025-07-04T19:36:11.990147Z",
     "iopub.status.busy": "2025-07-04T19:36:11.989743Z",
     "iopub.status.idle": "2025-07-04T19:36:12.042264Z",
     "shell.execute_reply": "2025-07-04T19:36:12.041013Z"
    },
    "papermill": {
     "duration": 0.060528,
     "end_time": "2025-07-04T19:36:12.043952",
     "exception": false,
     "start_time": "2025-07-04T19:36:11.983424",
     "status": "completed"
    },
    "tags": []
   },
   "outputs": [
    {
     "data": {
      "text/plain": [
       "['obesity_model.pkl']"
      ]
     },
     "execution_count": 17,
     "metadata": {},
     "output_type": "execute_result"
    }
   ],
   "source": [
    "import joblib\n",
    "\n",
    "joblib.dump(model, 'obesity_model.pkl')\n"
   ]
  },
  {
   "cell_type": "code",
   "execution_count": 18,
   "id": "4c96d350",
   "metadata": {
    "execution": {
     "iopub.execute_input": "2025-07-04T19:36:12.055759Z",
     "iopub.status.busy": "2025-07-04T19:36:12.055421Z",
     "iopub.status.idle": "2025-07-04T19:36:12.078671Z",
     "shell.execute_reply": "2025-07-04T19:36:12.077792Z"
    },
    "papermill": {
     "duration": 0.031041,
     "end_time": "2025-07-04T19:36:12.080348",
     "exception": false,
     "start_time": "2025-07-04T19:36:12.049307",
     "status": "completed"
    },
    "tags": []
   },
   "outputs": [],
   "source": [
    "import zipfile\n",
    "\n",
    "with zipfile.ZipFile('obesity_model.zip', 'w') as zipf:\n",
    "    zipf.write('obesity_model.pkl')\n"
   ]
  },
  {
   "cell_type": "code",
   "execution_count": 19,
   "id": "3162a924",
   "metadata": {
    "execution": {
     "iopub.execute_input": "2025-07-04T19:36:12.092156Z",
     "iopub.status.busy": "2025-07-04T19:36:12.091792Z",
     "iopub.status.idle": "2025-07-04T19:36:12.098590Z",
     "shell.execute_reply": "2025-07-04T19:36:12.097673Z"
    },
    "papermill": {
     "duration": 0.0145,
     "end_time": "2025-07-04T19:36:12.100283",
     "exception": false,
     "start_time": "2025-07-04T19:36:12.085783",
     "status": "completed"
    },
    "tags": []
   },
   "outputs": [
    {
     "data": {
      "text/html": [
       "<a href='obesity_model.zip' target='_blank'>obesity_model.zip</a><br>"
      ],
      "text/plain": [
       "/kaggle/working/obesity_model.zip"
      ]
     },
     "execution_count": 19,
     "metadata": {},
     "output_type": "execute_result"
    }
   ],
   "source": [
    "from IPython.display import FileLink\n",
    "FileLink('obesity_model.zip')\n"
   ]
  }
 ],
 "metadata": {
  "kaggle": {
   "accelerator": "none",
   "dataSources": [
    {
     "datasetId": 1788798,
     "sourceId": 2918196,
     "sourceType": "datasetVersion"
    }
   ],
   "dockerImageVersionId": 31040,
   "isGpuEnabled": false,
   "isInternetEnabled": false,
   "language": "python",
   "sourceType": "notebook"
  },
  "kernelspec": {
   "display_name": "Python 3",
   "language": "python",
   "name": "python3"
  },
  "language_info": {
   "codemirror_mode": {
    "name": "ipython",
    "version": 3
   },
   "file_extension": ".py",
   "mimetype": "text/x-python",
   "name": "python",
   "nbconvert_exporter": "python",
   "pygments_lexer": "ipython3",
   "version": "3.11.11"
  },
  "papermill": {
   "default_parameters": {},
   "duration": 18.50325,
   "end_time": "2025-07-04T19:36:12.828183",
   "environment_variables": {},
   "exception": null,
   "input_path": "__notebook__.ipynb",
   "output_path": "__notebook__.ipynb",
   "parameters": {},
   "start_time": "2025-07-04T19:35:54.324933",
   "version": "2.6.0"
  }
 },
 "nbformat": 4,
 "nbformat_minor": 5
}
